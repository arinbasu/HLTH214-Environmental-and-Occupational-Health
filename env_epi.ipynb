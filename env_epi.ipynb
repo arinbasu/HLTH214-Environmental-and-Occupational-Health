{
 "cells": [
  {
   "cell_type": "markdown",
   "metadata": {
    "slideshow": {
     "slide_type": "slide"
    }
   },
   "source": [
    "# Epidemiology\n",
    "- Study in population\n",
    "- Distribution of diseases\n",
    "- Determinants of diseases\n",
    "- Use of that information to benefit and improve public health"
   ]
  },
  {
   "cell_type": "markdown",
   "metadata": {
    "slideshow": {
     "slide_type": "slide"
    }
   },
   "source": [
    "# Environmental Epidemiology\n",
    "- Environment as the setting of diseases\n",
    "- Environment as the cause of diseases\n",
    "- How do we study diseases and health outcomes in specific environmental setting"
   ]
  },
  {
   "cell_type": "markdown",
   "metadata": {
    "slideshow": {
     "slide_type": "slide"
    }
   },
   "source": [
    "# Measures of Epidemiology\n",
    "- Measures of distribution\n",
    "- Measures of determinants\n",
    "- Study designs to achieve these measures"
   ]
  },
  {
   "cell_type": "markdown",
   "metadata": {
    "slideshow": {
     "slide_type": "slide"
    }
   },
   "source": [
    "# Measures of distribution\n",
    "- Prevalence of diseases and health outcomes\n",
    "- Incidence of diseases and health outcomes\n",
    "- Standardised mortality and morbidity\n",
    "- Study designs that allow us to establish these measures\n",
    "- Which measures are most commonly used in environmental epidemiological studies"
   ]
  },
  {
   "cell_type": "markdown",
   "metadata": {
    "slideshow": {
     "slide_type": "slide"
    }
   },
   "source": [
    "# Measures of determinants\n",
    "- Rate Ratio and Relative Risk estimates\n",
    "- Odds Ratio\n",
    "- Hazard Ratio\n",
    "- Attributable risk %\n",
    "- Population attributable risk %\n",
    "- Study designs that allow us to establish these measures"
   ]
  },
  {
   "cell_type": "markdown",
   "metadata": {
    "slideshow": {
     "slide_type": "slide"
    }
   },
   "source": [
    "# Common environmental epidemiological study designs\n",
    "- Ecological time series studies\n",
    "- Cross-section surveys\n",
    "- Case control studies\n",
    "- Panel studies\n",
    "- Cohort studies"
   ]
  },
  {
   "cell_type": "markdown",
   "metadata": {
    "slideshow": {
     "slide_type": "slide"
    }
   },
   "source": [
    "# Prevalence of diseases\n",
    " ## Which city has more disease? (these are fictitious cities)\n",
    "\n",
    "| City      | Number of people with disease | \n",
    "|-----------|------------------|\n",
    "| Rimmarton | 350              |\n",
    "| Fenmalton | 400              |"
   ]
  },
  {
   "cell_type": "markdown",
   "metadata": {
    "slideshow": {
     "slide_type": "slide"
    }
   },
   "source": [
    "# Prevalence of diseases\n",
    "\n",
    "## Which city has higher disease prevalence?\n",
    "\n",
    "| City | Number with disease | Population | Prevalence |\n",
    "|------|---------------------|------------|------------|\n",
    "| Rimmarton  |   350   |     1000 |  35.01 |\n",
    "| Fenmalton  |   400   |     1200  | 33.33 |"
   ]
  },
  {
   "cell_type": "markdown",
   "metadata": {
    "slideshow": {
     "slide_type": "slide"
    }
   },
   "source": [
    "# Prevalence\n",
    "- Provides a proportion of the disease/outcome\n",
    "- Need a base population for comparison\n",
    "- It is a one-time measure, measured at a GIVEN point in time"
   ]
  },
  {
   "cell_type": "markdown",
   "metadata": {
    "slideshow": {
     "slide_type": "slide"
    }
   },
   "source": [
    "# Incidence\n",
    "## Imagine we study the city of Rimmarton for 5 years (2013-2017) and studied the trend of disease D (we measure the data at the end of the year, 31st December)\n",
    "\n",
    "\n",
    "| Year | Population-at-risk | Number of people with disease D | Incidence Rate |\n",
    "|------|--------------------|---------------------------------|----------------|\n",
    "| 2013 | 1000               |  10                              | 100     |\n",
    "| 2014 | 990                |  12                              |  121.2    |\n",
    "| 2015 | 978                |  22                              | 224.9     |\n",
    "| 2016 | 956                |  20                              | 209.2     |\n",
    "| 2017 | 936                |  24                              | 256.4     |"
   ]
  },
  {
   "cell_type": "markdown",
   "metadata": {
    "slideshow": {
     "slide_type": "slide"
    }
   },
   "source": [
    "# Features of incidence rates\n",
    "- Incidence is a rate, there is an element of time associated with it\n",
    "- Incidence is about new cases\n",
    "- The base population of incidence is with people who are disease free to start with\n",
    "- Concept of person time\n",
    "- 1 person followed for 1 year = 1 person-year\n",
    "- 10 people followed for 1 year = 10 person-years\n",
    "- 1 person followed for 10 years = 10 person-years"
   ]
  },
  {
   "cell_type": "markdown",
   "metadata": {
    "slideshow": {
     "slide_type": "slide"
    }
   },
   "source": [
    "# Questions:\n",
    "- What was the total person-years for this data?\n",
    "- In terms of person-years over 5 years, what is the cumulative incidence rate?\n",
    "- At the end of 2017, what is the prevalence of disease D in this population?"
   ]
  },
  {
   "cell_type": "markdown",
   "metadata": {
    "slideshow": {
     "slide_type": "slide"
    }
   },
   "source": [
    "# What is the difference between incidence and prevalence?"
   ]
  },
  {
   "cell_type": "markdown",
   "metadata": {
    "slideshow": {
     "slide_type": "slide"
    }
   },
   "source": [
    "# What happens when two populations are different?\n",
    "\n",
    "| Age in years | Population_City_A | Number_with_disease | Population_city_b | Number_with_disease|\n",
    "|--------------|-------------------|---------------------|-------------------|--------------------|\n",
    "| < 20         | 1000              | 20                  | 600               | 30                 |\n",
    "| 20-39        | 1200              | 32                  | 700               | 42                 |\n",
    "| 40-59        | 600               | 16                  | 1200              | 12                 |\n",
    "| 60-79        | 200               |  8                  | 600               | 6                  |\n",
    "| > 80         | 150               |  16                 |  50               | 2                  |\n",
    "| Total        | 3150              |  92                 |  3150             | 92                 |\n",
    "\n",
    "- The two population structures are different\n",
    "- Otherwise, the crude prevalence estimates are same for both populations\n",
    "- Are the rates truly same?"
   ]
  },
  {
   "cell_type": "markdown",
   "metadata": {
    "slideshow": {
     "slide_type": "slide"
    }
   },
   "source": [
    "# Age-specific and age-standardised rates\n",
    "\n",
    "| Age in years | Prevalence in City A | Prevalence in City B |\n",
    "|--------------|----------------------|----------------------|\n",
    "| < 20         | 200                  |  500                 |\n",
    "| 20-39        | 266.67               |  600                 |\n",
    "| 40-59        | 266.67                |  100                 |\n",
    "| 60-79        | 400                    |  100                 |\n",
    "| >= 80        | 1066.67               |  400                 |\n",
    "\n",
    "- Age-specific prevalence is different between the two cities although the crude prevalence is same\n",
    "- City B has higher prevalence among the younger people while lower prevalence among the older population\n",
    "- To compare the true rates of these two cities, we age-standardise the rates"
   ]
  },
  {
   "cell_type": "markdown",
   "metadata": {
    "slideshow": {
     "slide_type": "slide"
    }
   },
   "source": [
    "# Age-standardisation\n",
    "- In age standardisation, we use a standard population\n",
    "- Multiply the age-specific rates with population count in each age-band\n",
    "- Sum up the numbers to obtain the age-standardised prevalence (or incidence)"
   ]
  },
  {
   "cell_type": "markdown",
   "metadata": {
    "slideshow": {
     "slide_type": "slide"
    }
   },
   "source": [
    "# We use a standardised population\n",
    "- The WHO SEGI is a standard population\n",
    "- You can make up any population that you think you can use"
   ]
  },
  {
   "cell_type": "markdown",
   "metadata": {
    "slideshow": {
     "slide_type": "slide"
    }
   },
   "source": [
    "# A sample standard population\n",
    "\n",
    "| Age in years | Standard population count |\n",
    "|--------------|---------------------------|\n",
    "| < 20         | 1000                      |\n",
    "| 20-39        | 1500                      |\n",
    "| 40-59        | 2500                      |\n",
    "| 60-79        | 1000                      |\n",
    "| >= 80        |  500                      |"
   ]
  },
  {
   "cell_type": "markdown",
   "metadata": {
    "slideshow": {
     "slide_type": "slide"
    }
   },
   "source": [
    "# Apply this population to our cities and we calculate the standard rates\n",
    "| Age in years | Age-specific rate for city A | std count  | Age-specific rate for B | Std Count |\n",
    "|--------------|------------------------------|------------|-------------------------|-----------|\n",
    "| < 20         | 200                          |   20         | 500                   |  50       |\n",
    "| 20-39        | 266.67                       |  40          | 600                   |  90        |\n",
    "| 40-59        | 266.67                       |   67         | 100                   | 25        |\n",
    "| 60-79        | 400                          |   40         | 100                    | 10       |\n",
    "| >= 80        | 1066.67                      |   53        |  400                    | 20       |"
   ]
  },
  {
   "cell_type": "markdown",
   "metadata": {
    "slideshow": {
     "slide_type": "slide"
    }
   },
   "source": [
    "# Calculations from the standardised morbidity table\n",
    "\n",
    "- The total number of diseased persons in standardised population for City A: 220\n",
    "- The total number of diseased persons in standardised population for City B: 195\n",
    "- These are also referred to as standardised morbidity rates for City A and City B (in this case)\n",
    "- These are expressed in the form of standardised morbidity ratios: 1.12\n",
    "- Indicates City A has higher burden of disease than City B"
   ]
  },
  {
   "cell_type": "markdown",
   "metadata": {
    "slideshow": {
     "slide_type": "slide"
    }
   },
   "source": [
    "# What do these measurements indicate in environmental epidemiology?\n",
    "- Prevalence estimates help us to understand the current state of the illnesses in a community\n",
    "- Incidence figures help us to understand how fast the diseases are spreading\n",
    "- Age-standardised rates help us to understand how disease statistics compare across time and countries, cities, communities"
   ]
  },
  {
   "cell_type": "markdown",
   "metadata": {
    "slideshow": {
     "slide_type": "slide"
    }
   },
   "source": [
    "# Measures of association (Relative Risk estimates)\n",
    "- Rate Ratio\n",
    "- Odds Ratio"
   ]
  },
  {
   "cell_type": "markdown",
   "metadata": {
    "slideshow": {
     "slide_type": "slide"
    }
   },
   "source": [
    "# Association between damp housing and chest infections\n",
    "\n",
    "- Cold and damp housing can cause pneumonia: chest infection\n",
    "- Imagine you are studying two groups of people: one group live in cold and damp houses (damp house group)\n",
    "- Another group live in houses that are airy and sunny (dry house group)\n",
    "- You want to test if living in cold and damp houses lead to chest infection\n",
    "- You study 1000 people from each type of household for 5 years\n",
    "- Thus, you study 5000 person-years from each household\n",
    "- Imagine, that other than one group living in damp houses and the other group living in dry houses\n",
    "- The group members are similar in every other aspect (age, gender, SES, ...)"
   ]
  },
  {
   "cell_type": "markdown",
   "metadata": {
    "slideshow": {
     "slide_type": "slide"
    }
   },
   "source": [
    "# Results of your study\n",
    "- Among the damp housing group, you find 150 people over 5 years to suffer from chest infection\n",
    "- Among the dry house group, you find 50 people over 5 years who reported having chest infection\n",
    "- What is the incidence of chest infection among the damp house group?\n",
    "- What is the incidence of chest infection among the dry house group?\n",
    "- What can you say about the association between damp housing and chest infection?"
   ]
  },
  {
   "cell_type": "markdown",
   "metadata": {
    "slideshow": {
     "slide_type": "slide"
    }
   },
   "source": [
    "# Results of your study: Excess risk (continued)\n",
    "| Participants | Number with chest infection | Person-years | Incidence rate per 10000 py |\n",
    "|--------------|-----------------------------|--------------|-----------------------------|\n",
    "| Damp housing | 150                         | 5000         | 300  |\n",
    "| Dry housing  | 50                          | 5000         | 100  |"
   ]
  },
  {
   "cell_type": "markdown",
   "metadata": {
    "slideshow": {
     "slide_type": "slide"
    }
   },
   "source": [
    "# Results from your study (what do the figures indicate)\n",
    "- Incidence of chest infection among those in damp houses: 300 per 10,000 person-years\n",
    "- Incidence of chest infection among those in dry houses: 100 per 10, 000 person-years\n",
    "- Excess risk of chest infection among those who live in damp houses: 200 per 10, 000 py\n",
    "- We express this in the form of Ie - I0 \n",
    "- Excess risk is also known as 'Attributable Risk'\n",
    "- This tells us that out of 300 per 10k-py who had chest infection who lived in damp houses, damp housing itself accounted for 200 cases\n",
    "- Therefore Attributable Risk % = 200 / 300 = 66.7%\n",
    "- 66.7% of the chest infection among those who lived in damp houses is accounted for by damp housing conditions"
   ]
  },
  {
   "cell_type": "markdown",
   "metadata": {
    "slideshow": {
     "slide_type": "slide"
    }
   },
   "source": [
    "# Results of your study: Rate Ratio\n",
    "| Participants | Number with chest infection | Person-years | Incidence rate per 10000 py |\n",
    "|--------------|-----------------------------|--------------|-----------------------------|\n",
    "| Damp housing | 150                         | 5000         | 300  |\n",
    "| Dry housing  | 50                          | 5000         | 100  |"
   ]
  },
  {
   "cell_type": "markdown",
   "metadata": {
    "slideshow": {
     "slide_type": "slide"
    }
   },
   "source": [
    "# Results from your study, what does rate ratio mean?\n",
    "- Incidence of chest infection among those who lived in damp houses: 300 per 10k py\n",
    "- Incidence of chest infection among those who lived in dry houses: 100 per 10 py\n",
    "- Ratio of such incidences: 300 / 100 = 3.0\n",
    "- This tells us those who lived in damp houses were 3 times more likely to suffer from chest infection than those who lived in dry houses\n",
    "- This measure is known as RR (Relative Risk or Rate Ratio)"
   ]
  },
  {
   "cell_type": "markdown",
   "metadata": {
    "slideshow": {
     "slide_type": "slide"
    }
   },
   "source": [
    "# How do we find out Attributable risk from RR\n",
    "- Formula: (RR - 1) / RR\n",
    "- In our case we have RR = 3.0\n",
    "- Therefore, our Attributable Risk: (3 - 1) / 3 = 2/3 = 66.7%\n",
    "- You can see that this is the same figure as the one we discussed while using excess risk\n",
    "- Use this formula when you can only get RR estimates"
   ]
  },
  {
   "cell_type": "markdown",
   "metadata": {
    "slideshow": {
     "slide_type": "slide"
    }
   },
   "source": [
    "# How do we use Attributable Risk?\n",
    "- Attributable Risk tells us what proportion of the outcome/disease is accounted for by the exposure\n",
    "- It helps when we think of different types of exposures that lead to the same outcome\n",
    "- We have talked about damp housing leading to chest infection\n",
    "- You also think of indoor smoking/environmental tobacco smoke (ETS) leads to chest infection\n",
    "- Let's say you run a similar study and find the RR between ETS and chest infection to be 6.5\n",
    "- What is the Attributable Risk% (Answer: 84.6%)\n",
    "- So among those who suffer from indoor smoking/ETS exposure, ETS accounts for 84% of chest infection!"
   ]
  },
  {
   "cell_type": "markdown",
   "metadata": {
    "slideshow": {
     "slide_type": "slide"
    }
   },
   "source": [
    "# How do we use Attributable Risk to benefit public health?\n",
    "- Let's say 20% people are exposed to damp housing condition\n",
    "- We have estimated the RR between damp housing and chest infection to be 3.0\n",
    "- This gives us an attributable risk % of 66.7\n",
    "- If we were to convert ALL damp housing to dry housing (i.e., remove the exposure ENTIRELY), by how much we can reduce the risk of chest infection?\n",
    "- That would be 20% * 66.7% = 13.3%\n",
    "- This figure is referred to as population attributable risk % and tell us that if damp housing were to be removed ENTIRELY "
   ]
  },
  {
   "cell_type": "markdown",
   "metadata": {
    "slideshow": {
     "slide_type": "slide"
    }
   },
   "source": [
    "# Relationship of Attributable Risk % and public health benefits\n",
    "\n",
    "| Prevalence of exposure | Attributable Risk % | By how much disease will be reduced |\n",
    "|------------------------|---------------------|--------------------------------|\n",
    "| 20%                    | 66.7%               | 13.34%                         |\n",
    "| 25%                    | 66.7%               | 16.67%                         |\n",
    "| 30%                    | 66.7%               | 20%                            |\n",
    "| 35%                    | 66.7%               | 23%                            |\n",
    "\n",
    "- This shows that the more common the prevalence, for the same relative risk, the more the benefits to the public health if we can remove the source of exposure"
   ]
  },
  {
   "cell_type": "markdown",
   "metadata": {
    "slideshow": {
     "slide_type": "slide"
    }
   },
   "source": [
    "# Alternative measure of Relative Risk: Odds Ratio\n",
    "- What happens when the disease or outcome is a rare disease?\n",
    "- For example, a disease such as cancer or birth defect \n",
    "- A rare disease: 1 in 10, 000 or rarer\n",
    "- A prospective study, where you can start with healthy people with or without exposure and wait for health outcomes is impractical\n",
    "- Here you sample from people with and without disease"
   ]
  },
  {
   "cell_type": "markdown",
   "metadata": {
    "slideshow": {
     "slide_type": "slide"
    }
   },
   "source": [
    "# Example of an Environmental Tobacco Smoke and Lung Cancer Study\n",
    "- You want to test that exposure to environmental tobacco smoke can cause lung cancer\n",
    "- You sample 200 people who were diagnosed with lung cancer from a hospital\n",
    "- These are your 'cases'\n",
    "- From the same hospital but a different ward, you sample another 200 people who did not have a diagnosis of lung cancer\n",
    "- These are your controls\n",
    "- From both groups, you took history of their exposure to ETS and classified the history of ETS exposure as heavy exposure versus low levels of exposure and want to compare"
   ]
  },
  {
   "cell_type": "markdown",
   "metadata": {
    "slideshow": {
     "slide_type": "slide"
    }
   },
   "source": [
    "# Results from the ETS and lung cancer study\n",
    "\n",
    "| Status of exposure to ETS | Cases (200) | Controls (200) |\n",
    "|---------------------------|-------------|----------------|\n",
    "| Heavy Exposure to ETS     | 140         | 30             |\n",
    "| Low exposure to ETS       | 60          | 170            |\n",
    "| Total                     | 200         | 200            |"
   ]
  },
  {
   "cell_type": "markdown",
   "metadata": {
    "slideshow": {
     "slide_type": "slide"
    }
   },
   "source": [
    "# Results from the ETS and lung cancer study (continued...)\n",
    "- Chance of heavy exposure for cases = 140 / 200\n",
    "- Chance of Low exposure for cases = 60 / 200\n",
    "- Odds of heavy exposure for cases = chance of heavy exposure / chance of low exposure = 140 / 60\n",
    "- Chance of heavy exposure for controls = 30\n",
    "- Chance of low exposure for controls = 170\n",
    "- Odds of heavy exposure for controls = chance of heavy exposure / chance of low exposure = 30 / 170\n",
    "- Odds Ratio of heavy exposure for cases VERSUS controls = ( 140 / 60 ) / (30 / 170 ) = 13.2\n",
    "- Odds Ratio is same as Rate Ratio for Rare Diseases!"
   ]
  },
  {
   "cell_type": "markdown",
   "metadata": {
    "slideshow": {
     "slide_type": "slide"
    }
   },
   "source": [
    "# Summary (What have we learned so far)\n",
    "- Epidemiology is the study of distribution and determinants of diseases in populations\n",
    "- Measures of distribution include prevalence, incidence, and standardised rates that help us to compare groups of people\n",
    "- Measures of association include rate ratio, odds ratio, attributable risk, and population attributable risk that help us to compare risks due to exposure variables\n",
    "- We can use population attributable risk percentage to identify what public health actions can be of high value benefits for environmental exposure reduction\n",
    "- Epidemiological studies are used to estimate these measures"
   ]
  },
  {
   "cell_type": "code",
   "execution_count": 19,
   "metadata": {
    "slideshow": {
     "slide_type": "skip"
    }
   },
   "outputs": [
    {
     "data": {
      "text/plain": [
       "1.1282051282051282"
      ]
     },
     "execution_count": 19,
     "metadata": {},
     "output_type": "execute_result"
    }
   ],
   "source": [
    "city_a_rate = np.array([200, 266.67, 266.67, 400, 1066.67])\n",
    "std_count = np.array([1000, 1500, 2500, 1000, 500])\n",
    "city_b_rate = np.array([500, 600, 100, 100, 400])\n",
    "city_a_count = (city_a_rate / 10000) * std_count\n",
    "city_a_count\n",
    "city_b_count = (city_b_rate / 10000) * std_count\n",
    "city_b_count\n",
    "sum(city_b_count)\n",
    "220 / 195"
   ]
  },
  {
   "cell_type": "code",
   "execution_count": 9,
   "metadata": {
    "slideshow": {
     "slide_type": "skip"
    }
   },
   "outputs": [
    {
     "data": {
      "text/plain": [
       "array([500., 600., 100., 100., 400.])"
      ]
     },
     "execution_count": 9,
     "metadata": {},
     "output_type": "execute_result"
    }
   ],
   "source": [
    "city_a_pop = np.array([1000, 1200, 600, 200, 150])\n",
    "disease_a = np.array([20, 32, 16, 8, 16])\n",
    "prev_a = disease_a * 10000 / city_a_pop\n",
    "prev_a\n",
    "\n",
    "city_b_pop = np.array([600, 700, 1200, 600, 50])\n",
    "disease_b = np.array([30, 42, 12, 6, 2])\n",
    "prev_b = disease_b * 10000 / city_b_pop\n",
    "prev_b"
   ]
  },
  {
   "cell_type": "code",
   "execution_count": 3,
   "metadata": {
    "slideshow": {
     "slide_type": "skip"
    }
   },
   "outputs": [
    {
     "data": {
      "text/plain": [
       "92"
      ]
     },
     "execution_count": 3,
     "metadata": {},
     "output_type": "execute_result"
    }
   ],
   "source": [
    "import pandas as pd\n",
    "import numpy as np\n",
    "import matplotlib.pyplot as plt\n",
    "\n",
    "city = ['Rimmarton', 'Fenmalton']\n",
    "deaths = [350, 400]\n",
    "\n",
    "d = {'city': ['Rimmarton', 'Fenmalton'], \n",
    "     'deaths': [350, 400] }\n",
    "\n",
    "df = pd.DataFrame(data = d)\n",
    "df['population'] = [1000, 1200]\n",
    "df['prev_death'] = df['deaths'] * 100 / df['population']\n",
    "df_html = df.to_html\n",
    "20+32 + 16 + 8 + 16\n",
    "600+700+1200+600+50\n",
    "30+42+12+6+2"
   ]
  },
  {
   "cell_type": "code",
   "execution_count": 28,
   "metadata": {
    "slideshow": {
     "slide_type": "skip"
    }
   },
   "outputs": [
    {
     "data": {
      "text/html": [
       "<div>\n",
       "<style scoped>\n",
       "    .dataframe tbody tr th:only-of-type {\n",
       "        vertical-align: middle;\n",
       "    }\n",
       "\n",
       "    .dataframe tbody tr th {\n",
       "        vertical-align: top;\n",
       "    }\n",
       "\n",
       "    .dataframe thead th {\n",
       "        text-align: right;\n",
       "    }\n",
       "</style>\n",
       "<table border=\"1\" class=\"dataframe\">\n",
       "  <thead>\n",
       "    <tr style=\"text-align: right;\">\n",
       "      <th></th>\n",
       "      <th>year</th>\n",
       "      <th>pop_at_risk</th>\n",
       "      <th>disease_d</th>\n",
       "      <th>annual_incidence</th>\n",
       "    </tr>\n",
       "  </thead>\n",
       "  <tbody>\n",
       "    <tr>\n",
       "      <th>0</th>\n",
       "      <td>2013</td>\n",
       "      <td>1000</td>\n",
       "      <td>10</td>\n",
       "      <td>100.000000</td>\n",
       "    </tr>\n",
       "    <tr>\n",
       "      <th>1</th>\n",
       "      <td>2014</td>\n",
       "      <td>990</td>\n",
       "      <td>12</td>\n",
       "      <td>121.212121</td>\n",
       "    </tr>\n",
       "    <tr>\n",
       "      <th>2</th>\n",
       "      <td>2015</td>\n",
       "      <td>978</td>\n",
       "      <td>22</td>\n",
       "      <td>224.948875</td>\n",
       "    </tr>\n",
       "    <tr>\n",
       "      <th>3</th>\n",
       "      <td>2016</td>\n",
       "      <td>956</td>\n",
       "      <td>20</td>\n",
       "      <td>209.205021</td>\n",
       "    </tr>\n",
       "    <tr>\n",
       "      <th>4</th>\n",
       "      <td>2017</td>\n",
       "      <td>936</td>\n",
       "      <td>24</td>\n",
       "      <td>256.410256</td>\n",
       "    </tr>\n",
       "  </tbody>\n",
       "</table>\n",
       "</div>"
      ],
      "text/plain": [
       "   year  pop_at_risk  disease_d  annual_incidence\n",
       "0  2013         1000         10        100.000000\n",
       "1  2014          990         12        121.212121\n",
       "2  2015          978         22        224.948875\n",
       "3  2016          956         20        209.205021\n",
       "4  2017          936         24        256.410256"
      ]
     },
     "execution_count": 28,
     "metadata": {},
     "output_type": "execute_result"
    }
   ],
   "source": [
    "d2 = {\n",
    "    'year': ['2013', '2014', '2015', '2016', '2017'],\n",
    "    'pop_at_risk': [1000, 990, 978, 956, 936],\n",
    "    'disease_d': [10, 12, 22, 20, 24]\n",
    "    \n",
    "}\n",
    "\n",
    "df2 = pd.DataFrame(data = d2)\n",
    "df2['annual_incidence'] = df2['disease_d'] * 10000/df2['pop_at_risk']\n",
    "df2\n",
    "\n",
    "# sum(df2['disease_d'])"
   ]
  },
  {
   "cell_type": "code",
   "execution_count": 29,
   "metadata": {
    "slideshow": {
     "slide_type": "skip"
    }
   },
   "outputs": [
    {
     "data": {
      "image/png": "[encoded data removed]",
      "text/plain": [
       "<Figure size 432x288 with 1 Axes>"
      ]
     },
     "metadata": {
      "needs_background": "light"
     },
     "output_type": "display_data"
    }
   ],
   "source": [
    "plt.bar(df2['year'], df2['annual_incidence'])\n",
    "plt.savefig('barplot.png')"
   ]
  }
 ],
 "metadata": {
  "kernelspec": {
   "display_name": "Python 3",
   "language": "python",
   "name": "python3"
  },
  "language_info": {
   "codemirror_mode": {
    "name": "ipython",
    "version": 3
   },
   "file_extension": ".py",
   "mimetype": "text/x-python",
   "name": "python",
   "nbconvert_exporter": "python",
   "pygments_lexer": "ipython3",
   "version": "3.7.3"
  }
 },
 "nbformat": 4,
 "nbformat_minor": 2
}
